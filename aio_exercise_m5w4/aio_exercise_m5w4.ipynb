{
 "cells": [
  {
   "cell_type": "code",
   "execution_count": 1,
   "metadata": {},
   "outputs": [],
   "source": [
    "import numpy as np"
   ]
  },
  {
   "cell_type": "code",
   "execution_count": 4,
   "metadata": {},
   "outputs": [],
   "source": [
    "def compute_dlW(W):\n",
    "    \"\"\"\n",
    "    Arguments:\n",
    "    W -- np.array[w1, w2]\n",
    "    Returns:\n",
    "    dW -- np.array[dw1, dw2], array chứa giá trị đạo hàm theo w1 và w2\n",
    "    \"\"\"\n",
    "\n",
    "    dW = np.array([0.2, 4])*W\n",
    "    return dW"
   ]
  },
  {
   "cell_type": "code",
   "execution_count": 3,
   "metadata": {},
   "outputs": [],
   "source": [
    "def sgd(W, dW, lr):\n",
    "    \"\"\"\n",
    "    Arguments:\n",
    "        W -- np.array: [w1, w2]\n",
    "        dW -- np.array: [dw1, dw2]\n",
    "        lr -- float: learning rate\n",
    "    Returns:\n",
    "        W -- np.array: [w1, w2] after being updated\n",
    "    \"\"\"\n",
    "\n",
    "    W = W - lr*dW\n",
    "    return W"
   ]
  },
  {
   "cell_type": "code",
   "execution_count": null,
   "metadata": {},
   "outputs": [],
   "source": [
    "def train_pl(optimizer, lr, epochs):\n",
    "    \"\"\"\n",
    "    Arguments:\n",
    "        optimizer: optimization function\n",
    "        lr -- float: learning rate\n",
    "        epochs -- int: number of iterations\n",
    "    Returns:\n",
    "        results -- list: [w1, w2] after each epoch\n",
    "    \"\"\"\n",
    "\n",
    "    W = np.array([-5, -2], dtype=np.float32)\n",
    "\n",
    "    results = [W]\n",
    "\n",
    "    for epoch in range(epochs):\n",
    "        dW = compute_dlW(W)\n",
    "        v_past = 0\n",
    "        v_current, W = optimizer(W, dW, lr)\n",
    "        results.append(W)\n",
    "    \n",
    "    return results"
   ]
  },
  {
   "cell_type": "code",
   "execution_count": 11,
   "metadata": {},
   "outputs": [
    {
     "name": "stdout",
     "output_type": "stream",
     "text": [
      "[-4.09831018e-01 -4.42147839e-07]\n"
     ]
    }
   ],
   "source": [
    "results = train_pl(sgd, lr=0.4, epochs=30)\n",
    "print(results[-1])"
   ]
  },
  {
   "cell_type": "code",
   "execution_count": 15,
   "metadata": {},
   "outputs": [],
   "source": [
    "def sgd_momentum(beta, v_past, W, dW, lr):\n",
    "    \"\"\"\n",
    "    Arguments:\n",
    "        momentum -- float: kind of learning rate for past velocity\n",
    "        W -- np.array: [w1, w2]\n",
    "        dW -- np.array: [dw1, dw2]\n",
    "        lr -- float: learning rate\n",
    "        v_past -- np.array: [dw1_past, dw2_past]\n",
    "    Returns:\n",
    "        W -- np.array: [w1, w2] after being updated\n",
    "    \"\"\"\n",
    "    v_current = v_past*beta + (1- beta)*dW\n",
    "    W = W - lr*v_current\n",
    "    return v_current, W"
   ]
  },
  {
   "cell_type": "code",
   "execution_count": 16,
   "metadata": {},
   "outputs": [],
   "source": [
    "def train_pl(optimizer, lr, epochs):\n",
    "    \"\"\"\n",
    "    Arguments:\n",
    "        optimizer: optimization function\n",
    "        lr -- float: learning rate\n",
    "        epochs -- int: number of iterations\n",
    "    Returns:\n",
    "        results -- list: [w1, w2] after each epoch\n",
    "    \"\"\"\n",
    "\n",
    "    W = np.array([-5, -2], dtype=np.float32)\n",
    "    V = np.array([0, 0], dtype=np.float32)\n",
    "    results = [W]\n",
    "    beta = 0.5\n",
    "\n",
    "    for epoch in range(epochs):\n",
    "        dW = compute_dlW(W)\n",
    "        v_current, W = optimizer(v_past = V, beta = beta, W=W, dW=dW, lr=lr)\n",
    "        results.append(W)\n",
    "        V = v_current\n",
    "    \n",
    "    return results"
   ]
  },
  {
   "cell_type": "code",
   "execution_count": 18,
   "metadata": {},
   "outputs": [
    {
     "data": {
      "text/plain": [
       "array([-6.10072592e-02,  6.45162933e-05])"
      ]
     },
     "execution_count": 18,
     "metadata": {},
     "output_type": "execute_result"
    }
   ],
   "source": [
    "results = train_pl(sgd_momentum, lr=0.6, epochs=30)\n",
    "results[-1]"
   ]
  },
  {
   "cell_type": "code",
   "execution_count": 33,
   "metadata": {},
   "outputs": [],
   "source": [
    "def rmsprop(S, gamma, W, dW, lr, epsilon):\n",
    "    \"\"\"\n",
    "    Arguments:\n",
    "        S -- float: step\n",
    "        gamma -- float\n",
    "        W -- np.array [w1, w2]\n",
    "        dW -- np.array [dw1, dw2]\n",
    "        lr -- float: learning rate\n",
    "        epsilon -- float\n",
    "    Returns\n",
    "        W -- np.array: [w1, w2]\n",
    "    \"\"\"\n",
    "\n",
    "    S = gamma*S + (1 - gamma)*(dW**2)\n",
    "    W = W - lr * (dW / np.sqrt(S+epsilon))\n",
    "    return S, W"
   ]
  },
  {
   "cell_type": "code",
   "execution_count": 34,
   "metadata": {},
   "outputs": [],
   "source": [
    "def train_pl(optimizer, lr, epochs):\n",
    "    \"\"\"\n",
    "    Arguments:\n",
    "        optimizer: optimization function\n",
    "        lr -- float: learning rate\n",
    "        epochs -- int: number of iterations\n",
    "    Returns:\n",
    "        results -- list: [w1, w2] after each epoch\n",
    "    \"\"\"\n",
    "\n",
    "    W = np.array([-5, -2], dtype=np.float32)\n",
    "    S = np.array([0, 0], dtype=np.float32)\n",
    "    results = [W]\n",
    "    gamma = 0.9\n",
    "    epsilon = 1e-6\n",
    "\n",
    "    for epoch in range(epochs):\n",
    "        dW = compute_dlW(W)\n",
    "        S, W = optimizer(S = S, gamma = gamma, W=W, dW=dW, \n",
    "                         lr=lr, epsilon=epsilon)\n",
    "        results.append(W)\n",
    "    \n",
    "    return results"
   ]
  },
  {
   "cell_type": "code",
   "execution_count": 36,
   "metadata": {},
   "outputs": [
    {
     "data": {
      "text/plain": [
       "array([-3.00577081e-03, -3.00506084e-17])"
      ]
     },
     "execution_count": 36,
     "metadata": {},
     "output_type": "execute_result"
    }
   ],
   "source": [
    "results = train_pl(rmsprop, lr=0.3, epochs=30)\n",
    "results[-1]"
   ]
  },
  {
   "cell_type": "code",
   "execution_count": 96,
   "metadata": {},
   "outputs": [],
   "source": [
    "def adam(S, V, beta1, beta2, W, dW, lr, epsilon):\n",
    "\n",
    "\n",
    "    V = beta1*V + (1 - beta1)*(dW)\n",
    "    S = beta2*S + (1 - beta2)*(dW**2)\n",
    "    V = np.array(V, dtype=np.float32)\n",
    "    S = np.array(S, dtype=np.float32)\n",
    "    V_corr = V / (1 - beta1)\n",
    "    S_corr = S / (1 - beta2)\n",
    "    W = W - lr * (V_corr / (np.sqrt(S_corr)+epsilon))\n",
    "    return V, S, W"
   ]
  },
  {
   "cell_type": "code",
   "execution_count": 103,
   "metadata": {},
   "outputs": [],
   "source": [
    "def train_pl(optimizer, lr, epochs):\n",
    "    \"\"\"\n",
    "    Arguments:\n",
    "        optimizer: optimization function\n",
    "        lr -- float: learning rate\n",
    "        epochs -- int: number of iterations\n",
    "    Returns:\n",
    "        results -- list: [w1, w2] after each epoch\n",
    "    \"\"\"\n",
    "\n",
    "    W = np.array([-5, -2], dtype=np.float32)\n",
    "    S = np.array([0, 0], dtype=np.float32)\n",
    "    V = np.array([0, 0], dtype=np.float32)\n",
    "    results = [W]\n",
    "    beta1 = 0.9\n",
    "    beta2 = 0.999\n",
    "    epsilon = 1e-6\n",
    "\n",
    "    for epoch in range(epochs):\n",
    "        dW = compute_dlW(W)\n",
    "        V, S, W = optimizer(S = S, V = V,  beta1 = beta1, beta2 = beta2,\n",
    "                             W=W, dW=dW, lr=lr, epsilon=epsilon)\n",
    "        results.append(W)\n",
    "    \n",
    "    return results"
   ]
  },
  {
   "cell_type": "code",
   "execution_count": 105,
   "metadata": {},
   "outputs": [
    {
     "name": "stdout",
     "output_type": "stream",
     "text": [
      "[ 0.946854   -0.32779002]\n"
     ]
    }
   ],
   "source": [
    "results = train_pl(adam, lr=0.2, epochs=30)\n",
    "print(results[-1])"
   ]
  }
 ],
 "metadata": {
  "kernelspec": {
   "display_name": "base",
   "language": "python",
   "name": "python3"
  },
  "language_info": {
   "codemirror_mode": {
    "name": "ipython",
    "version": 3
   },
   "file_extension": ".py",
   "mimetype": "text/x-python",
   "name": "python",
   "nbconvert_exporter": "python",
   "pygments_lexer": "ipython3",
   "version": "3.11.5"
  }
 },
 "nbformat": 4,
 "nbformat_minor": 2
}
