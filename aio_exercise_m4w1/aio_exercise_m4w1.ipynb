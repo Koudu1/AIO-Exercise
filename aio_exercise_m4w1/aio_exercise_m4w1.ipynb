{
 "cells": [
  {
   "cell_type": "code",
   "execution_count": 1,
   "metadata": {},
   "outputs": [],
   "source": [
    "import numpy as np\n",
    "import matplotlib.pyplot as plt\n",
    "import random"
   ]
  },
  {
   "cell_type": "markdown",
   "metadata": {},
   "source": [
    "## Bài tập 1"
   ]
  },
  {
   "cell_type": "code",
   "execution_count": 2,
   "metadata": {},
   "outputs": [],
   "source": [
    "def get_column(data, index):\n",
    "    result = np.array(np.array(data)[:, index])\n",
    "    return result\n",
    "\n",
    "def prepare_data(file_name_dataset):\n",
    "    data = np.genfromtxt(file_name_dataset, delimiter=',', skip_header=1).tolist()\n",
    "    N = len(data)\n",
    "\n",
    "    tv_data = get_column(data, 0)\n",
    "    radio_data = get_column(data, 1)\n",
    "    newspaper_data = get_column(data, 2)\n",
    "    sales_data = get_column(data, 3)\n",
    "\n",
    "    X = [tv_data, radio_data, newspaper_data]\n",
    "    y = sales_data\n",
    "\n",
    "    return X, y"
   ]
  },
  {
   "cell_type": "markdown",
   "metadata": {},
   "source": [
    "## Bài tập 2"
   ]
  },
  {
   "cell_type": "code",
   "execution_count": 4,
   "metadata": {},
   "outputs": [],
   "source": [
    "def initialize_params():\n",
    "    w1, w2, w3, b = (0.016992259082509283, 0.0070783670518262355, -0.002307860847821344, 0)\n",
    "    return w1, w2, w3, b\n",
    "def predict(w1, w2, w3, x1, x2, x3, b):\n",
    "    y_hat = w1*x1 + w2*x2 + w3*x3 + b\n",
    "    return y_hat\n",
    "def compute_loss_mse(y_hat, y):\n",
    "    return (y_hat - y)**2\n",
    "def compute_gradient_weight(xi, y_hat, y):\n",
    "    return 2*xi*(y_hat - y)\n",
    "def compute_gradient_b(y_hat, y):\n",
    "    return 2*(y_hat - y)\n",
    "def update_weight(wi, dl_dwi, lr):\n",
    "    wi = wi - lr*dl_dwi\n",
    "    return wi\n",
    "def update_b(b, dl_db, lr):\n",
    "    b = b - lr*dl_db\n",
    "    return b"
   ]
  },
  {
   "cell_type": "code",
   "execution_count": 5,
   "metadata": {},
   "outputs": [],
   "source": [
    "def implement_linear_regression(x_data, y_data, epochs_max=50, lr=1e-5):\n",
    "    losses = []\n",
    "\n",
    "    #Initialize weight and bias for linear equations\n",
    "    w1, w2, w3, b = initialize_params()\n",
    "    N = len(y_data)\n",
    "    #Linear Regression algorithm (approach 1: not using average at once)\n",
    "    for epoch in range(epochs_max):\n",
    "        for i in range(N):\n",
    "\n",
    "            #Pick sample\n",
    "            x1 = x_data[0][i]\n",
    "            x2 = x_data[1][i]\n",
    "            x3 = x_data[2][i]\n",
    "            y = x_data[i]\n",
    "\n",
    "            #Calculate predicted value from a given linear function\n",
    "            y_hat = predict(w1, w2, w3, x1, x2, x3, b)\n",
    "\n",
    "            #Calculate loss\n",
    "            loss_mse = compute_loss_mse(y_hat, y)\n",
    "\n",
    "            #Compute gradient descent\n",
    "            dl_dw1 = compute_gradient_weight(x1, y_hat, y)\n",
    "            dl_dw2 = compute_gradient_weight(x2, y_hat, y)\n",
    "            dl_dw3 = compute_gradient_weight(x3, y_hat, y)\n",
    "            dl_db = compute_gradient_b(y_hat, y)\n",
    "\n",
    "            #Update weight and bias\n",
    "            w1 = update_weight(w1, dl_dw1, lr)\n",
    "            w2 = update_weight(w2, dl_dw2, lr)\n",
    "            w3 = update_weight(w3, dl_dw3, lr)\n",
    "            b = update_b(b, dl_db, lr)\n",
    "\n",
    "            losses.append(loss_mse)\n",
    "\n",
    "    return (w1, w2, w3, b, losses)\n"
   ]
  },
  {
   "cell_type": "markdown",
   "metadata": {},
   "source": [
    "## Bài tập 3"
   ]
  },
  {
   "cell_type": "code",
   "execution_count": 6,
   "metadata": {},
   "outputs": [],
   "source": [
    "def implement_linear_regression_nsamples(x_data, y_data, epoch_max=50, lr=1e-5):\n",
    "    losses = []\n",
    "\n",
    "    w1, w2, w3, b = initialize_params()\n",
    "    N = len(y_data)\n",
    "\n",
    "    for epoch in range(epoch_max):\n",
    "        loss_total = 0.0\n",
    "        dw1_total = 0.0\n",
    "        dw2_total = 0.0\n",
    "        dw3_total = 0.0\n",
    "        db_total = 0.0\n",
    "\n",
    "        for i in range(N):\n",
    "            x1 = x_data[0][i]\n",
    "            x2 = x_data[1][i]\n",
    "            x3 = x_data[2][i]\n",
    "\n",
    "            y = y_data[i]\n",
    "\n",
    "            y_hat = predict(x1, x2, x3, w1, w2, w3, b)\n",
    "\n",
    "            loss = compute_loss_mse(y_hat, y)\n",
    "\n",
    "            loss_total = loss_total + loss\n",
    "\n",
    "            dl_dw1 = compute_gradient_weight(x1, y_hat, y)\n",
    "            dl_dw2 = compute_gradient_weight(x2, y_hat, y)\n",
    "            dl_dw3 = compute_gradient_weight(x3, y_hat, y)\n",
    "            dl_db = compute_gradient_b(y_hat, y)\n",
    "\n",
    "            dw1_total = dw1_total + dl_dw1\n",
    "            dw2_total = dw2_total + dl_dw2\n",
    "            dw3_total = dw3_total + dl_dw3\n",
    "            db_total = db_total + dl_db\n",
    "\n",
    "        w1 = update_weight(w1, dw1_total/N, lr)\n",
    "        w2 = update_weight(w2, dw2_total/N, lr)\n",
    "        w3 = update_weight(w3, dw3_total/N, lr)\n",
    "        b = update_b(b, db_total/N, lr)\n",
    "\n",
    "        losses.append(loss_total/N)\n",
    "    return (w1, w2, w3, b, losses)"
   ]
  },
  {
   "cell_type": "markdown",
   "metadata": {},
   "source": [
    "## Bài tập 4"
   ]
  },
  {
   "cell_type": "code",
   "execution_count": 24,
   "metadata": {},
   "outputs": [],
   "source": [
    "def prepare_data(file_name_dataset):\n",
    "    data = np.genfromtxt(file_name_dataset, delimiter=',', skip_header=1).tolist()\n",
    "\n",
    "    tv_data = get_column(data, 0)\n",
    "    radio_data = get_column(data, 1)\n",
    "    newspaper_data = get_column(data, 2)\n",
    "    sales_data = get_column(data, 3)\n",
    "\n",
    "    X = [[1, x1, x2, x3] for x1, x2, x3 in zip(tv_data, radio_data, newspaper_data)]\n",
    "    y = sales_data\n",
    "\n",
    "    return X, y\n",
    "\n",
    "def initialize_params():\n",
    "    bias = 0\n",
    "    w1 = random.gauss(mu=0.0, sigma=0.01)\n",
    "    w2 = random.gauss(mu=0.0, sigma=0.01)\n",
    "    w3 = random.gauss(mu=0.0, sigma=0.01)\n",
    "\n",
    "    return [0 , 0.01268850433497871 , 0.004752496982185252 , 0.0073796171538643845]\n",
    "\n",
    "def predict(x_features, weights):\n",
    "    return np.dot(np.array(weights), np.array(x_features))\n",
    "def compute_loss_mse(y_hat, y):\n",
    "    return (y_hat - y)**2\n",
    "def compute_gradient_w(x_features, y_hat, y):\n",
    "    return 2*x_features*(y_hat -  y)\n",
    "def update_weight(weights, dl_dweights, lr):\n",
    "    weights = weights - dl_dweights*lr\n",
    "    return weights\n",
    "def implement_linear_regression(x_feature, y_output, epochs_max=50, lr=1e-5):\n",
    "    losses = []\n",
    "    weights = np.array(initialize_params())\n",
    "    N = len(y_output)\n",
    "\n",
    "    for epoch in range(epochs_max):\n",
    "        for i in range(N):\n",
    "            feature_i = np.array(x_feature[i])\n",
    "            y = y_output[i]\n",
    "\n",
    "            y_hat = predict(feature_i, weights)\n",
    "\n",
    "            loss = compute_loss_mse(y_hat, y)\n",
    "\n",
    "            dl_dweights = compute_gradient_w(feature_i, y_hat, y)\n",
    "            weights = update_weight(weights, dl_dweights, lr)\n",
    "\n",
    "            losses.append(loss)\n",
    "\n",
    "    return weights, losses\n",
    "\n"
   ]
  },
  {
   "cell_type": "code",
   "execution_count": 25,
   "metadata": {},
   "outputs": [
    {
     "name": "stdout",
     "output_type": "stream",
     "text": [
      "31.339384207337442\n"
     ]
    }
   ],
   "source": [
    "X, y = prepare_data('advertising.csv')\n",
    "W, L = implement_linear_regression(X, y)\n",
    "\n",
    "print(L[9999])"
   ]
  }
 ],
 "metadata": {
  "kernelspec": {
   "display_name": "base",
   "language": "python",
   "name": "python3"
  },
  "language_info": {
   "codemirror_mode": {
    "name": "ipython",
    "version": 3
   },
   "file_extension": ".py",
   "mimetype": "text/x-python",
   "name": "python",
   "nbconvert_exporter": "python",
   "pygments_lexer": "ipython3",
   "version": "3.11.5"
  }
 },
 "nbformat": 4,
 "nbformat_minor": 2
}
