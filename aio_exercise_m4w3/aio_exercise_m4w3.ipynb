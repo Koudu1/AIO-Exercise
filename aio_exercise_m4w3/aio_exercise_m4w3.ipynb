{
 "cells": [
  {
   "cell_type": "code",
   "execution_count": 67,
   "metadata": {},
   "outputs": [],
   "source": [
    "import numpy as np\n",
    "import matplotlib.pyplot as plt\n",
    "import random\n",
    "random.seed(0)\n",
    "%matplotlib inline\n",
    "\n",
    "def load_data_from_file(filename = 'advertising.csv'):\n",
    "    data = np.genfromtxt(filename, delimiter=',', skip_header=1, dtype=None)\n",
    "    features_x = data[:, :3]\n",
    "    sales_y = data[:, 3]\n",
    "\n",
    "    N = len(sales_y)\n",
    "    features_x = np.c_[np.ones((N, 1)), features_x]\n",
    "\n",
    "    return features_x, sales_y"
   ]
  },
  {
   "cell_type": "code",
   "execution_count": 68,
   "metadata": {},
   "outputs": [
    {
     "name": "stdout",
     "output_type": "stream",
     "text": [
      "[[  1.  230.1  37.8  69.2]\n",
      " [  1.   44.5  39.3  45.1]\n",
      " [  1.   17.2  45.9  69.3]\n",
      " [  1.  151.5  41.3  58.5]\n",
      " [  1.  180.8  10.8  58.4]]\n"
     ]
    }
   ],
   "source": [
    "features_X, sales_Y = load_data_from_file()\n",
    "print(features_X[:5, :])"
   ]
  },
  {
   "cell_type": "code",
   "execution_count": 69,
   "metadata": {},
   "outputs": [
    {
     "name": "stdout",
     "output_type": "stream",
     "text": [
      "(200,)\n"
     ]
    }
   ],
   "source": [
    "print(sales_Y.shape)"
   ]
  },
  {
   "cell_type": "code",
   "execution_count": 47,
   "metadata": {},
   "outputs": [
    {
     "name": "stdout",
     "output_type": "stream",
     "text": [
      "[-2.395076896080406, 3.0502782701302236, 0.4869930383558929, -4.8595829983598104]\n"
     ]
    }
   ],
   "source": [
    "def create_individual(n=4, bound=10):\n",
    "    individual = [(random.random()*2 - 1)*bound/2 for _ in range(n)]\n",
    "\n",
    "    return individual\n",
    "\n",
    "individual = create_individual()\n",
    "print(individual)"
   ]
  },
  {
   "cell_type": "code",
   "execution_count": 70,
   "metadata": {},
   "outputs": [],
   "source": [
    "features_X, sales_Y = load_data_from_file()\n",
    "\n",
    "def compute_loss(individual):\n",
    "    theta = np.array(individual)\n",
    "    y_hat = features_X.dot(theta)\n",
    "    loss = np.mean((y_hat - sales_Y)**2)\n",
    "    return loss\n",
    "\n",
    "def compute_fitness(individual):\n",
    "    loss = compute_loss(individual)\n",
    "    fitness_value = 0\n",
    "\n",
    "    fitness_value = 1/(loss+1)\n",
    "    return fitness_value"
   ]
  },
  {
   "cell_type": "code",
   "execution_count": 49,
   "metadata": {},
   "outputs": [
    {
     "name": "stdout",
     "output_type": "stream",
     "text": [
      "1.0185991537088997e-06\n"
     ]
    }
   ],
   "source": [
    "features_X , sales_Y = load_data_from_file ()\n",
    "individual = [4.09 , 4.82 , 3.10 , 4.02]\n",
    "fitness_score = compute_fitness ( individual )\n",
    "print ( fitness_score )"
   ]
  },
  {
   "cell_type": "code",
   "execution_count": 71,
   "metadata": {},
   "outputs": [],
   "source": [
    "def crossover(individual1, individual2, crossover_rate=0.9):\n",
    "    individual1_new = individual1.copy()\n",
    "    individual2_new = individual2.copy()\n",
    "    N = len(individual1)\n",
    "    for i in range(N):\n",
    "        if random.random() < crossover_rate:\n",
    "            individual1_new[i] = individual2[i]\n",
    "            individual2_new[i] = individual1[i]\n",
    "\n",
    "    return individual1_new, individual2_new\n"
   ]
  },
  {
   "cell_type": "code",
   "execution_count": 51,
   "metadata": {},
   "outputs": [
    {
     "name": "stdout",
     "output_type": "stream",
     "text": [
      " individual1 :  [3.44, 2.57, -0.79, -2.41]\n",
      " individual2 :  [4.09, 4.82, 3.1, 4.02]\n"
     ]
    }
   ],
   "source": [
    "individual1 = [4.09 , 4.82 , 3.10 , 4.02]\n",
    "individual2 = [3.44 , 2.57 , -0.79 , -2.41]\n",
    "individual1 , individual2 = crossover( individual1 , individual2 , 2.0)\n",
    "print (\" individual1 : \" , individual1 )\n",
    "print (\" individual2 : \" , individual2 )"
   ]
  },
  {
   "cell_type": "code",
   "execution_count": 72,
   "metadata": {},
   "outputs": [],
   "source": [
    "def mutate(individual, mutation_rate = 0.05):\n",
    "    individual_m = individual.copy()\n",
    "\n",
    "    for i in range(len(individual)):\n",
    "        if random.random() < mutation_rate:\n",
    "            individual_m[i] = -individual[i]\n",
    "    \n",
    "    return individual_m"
   ]
  },
  {
   "cell_type": "code",
   "execution_count": 53,
   "metadata": {},
   "outputs": [
    {
     "name": "stdout",
     "output_type": "stream",
     "text": [
      "False\n"
     ]
    }
   ],
   "source": [
    "before_individual = [4.09 , 4.82 , 3.10 , 4.02]\n",
    "after_individual = mutate ( individual , mutation_rate = 2.0)\n",
    "print ( before_individual == after_individual )"
   ]
  },
  {
   "cell_type": "code",
   "execution_count": 73,
   "metadata": {},
   "outputs": [],
   "source": [
    "def initialize_population(m):\n",
    "    population = [create_individual() for _ in range(m)]\n",
    "    return population\n",
    "\n",
    "def selection(sorted_old_population, m=100):\n",
    "    index1 = random.randint(0, m-1)\n",
    "    while True:\n",
    "        index2 = random.randint(0, m-1)\n",
    "        if index1 != index2:\n",
    "            break\n",
    "    \n",
    "    if index1 > index2:\n",
    "        return sorted_old_population[index1]\n",
    "    else:\n",
    "        return sorted_old_population[index2]"
   ]
  },
  {
   "cell_type": "code",
   "execution_count": 74,
   "metadata": {},
   "outputs": [],
   "source": [
    "def create_new_population(old_population, elitism=2, gen=1):\n",
    "    m = len(old_population)\n",
    "    sorted_population = sorted(old_population,\n",
    "                               key=compute_fitness)\n",
    "    \n",
    "    if gen%1 == 0:\n",
    "        print (\" Best loss :\" , compute_loss(sorted_population [m -1]) , \" with chromsome : \" ,\n",
    "sorted_population [m -1])\n",
    "    \n",
    "    new_population = []\n",
    "    while len(new_population) < m:\n",
    "        individual1, individual2 = selection(sorted_population, m), selection(sorted_population, m)\n",
    "        individual1_new, individual2_new = crossover(individual1, individual2)\n",
    "        new_population.append(mutate(individual1_new))\n",
    "        new_population.append(mutate(individual2_new))\n",
    "\n",
    "    for ind in sorted_population[m-elitism:]:\n",
    "        new_population.append(ind)\n",
    "    \n",
    "    return new_population, compute_loss(sorted_population[m-1])\n"
   ]
  },
  {
   "cell_type": "code",
   "execution_count": 81,
   "metadata": {},
   "outputs": [
    {
     "name": "stdout",
     "output_type": "stream",
     "text": [
      " Best loss : 123415.051528805  with chromsome :  [3.44, 2.57, -0.79, -2.41]\n"
     ]
    }
   ],
   "source": [
    "individual1 = [4.09 , 4.82 , 3.10 , 4.02]\n",
    "individual2 = [3.44 , 2.57 , -0.79 , -2.41]\n",
    "old_population = [ individual1 , individual2 ]\n",
    "new_population , _ = create_new_population ( old_population , elitism =2 , gen =1)"
   ]
  },
  {
   "cell_type": "code",
   "execution_count": 85,
   "metadata": {},
   "outputs": [],
   "source": [
    "def run_ga():\n",
    "    n_generations = 100\n",
    "    m = 600\n",
    "    features_X, sales_Y = load_data_from_file()\n",
    "    population = initialize_population(m)\n",
    "    losses_list = []\n",
    "    for i in range(n_generations):\n",
    "        population, loss = create_new_population(population)\n",
    "        losses_list.append(loss)\n",
    "    \n",
    "    return losses_list\n"
   ]
  },
  {
   "cell_type": "code",
   "execution_count": 86,
   "metadata": {},
   "outputs": [],
   "source": [
    "def visualize_loss(losses_list):\n",
    "    plt.plot(list(range(len(losses_list))), losses_list, color='g')\n",
    "    plt.xlabel(\"Generation\")\n",
    "    plt.ylabel(\"Losses\")\n",
    "    plt.show()"
   ]
  },
  {
   "cell_type": "code",
   "execution_count": 88,
   "metadata": {},
   "outputs": [
    {
     "name": "stdout",
     "output_type": "stream",
     "text": [
      " Best loss : 567.9210982483207  with chromsome :  [-1.7204527062167774, 0.044023176239113004, 0.31874717736554037, -0.5770811508709917]\n",
      " Best loss : 160.96927134896916  with chromsome :  [-2.941747929178895, 0.10014747695373138, 0.8194087452684495, -0.47865924610535515]\n",
      " Best loss : 160.96927134896916  with chromsome :  [-2.941747929178895, 0.10014747695373138, 0.8194087452684495, -0.47865924610535515]\n",
      " Best loss : 69.19677468095142  with chromsome :  [0.49115579754813843, 0.044023176239113004, 0.31874717736554037, -0.19887816224853583]\n",
      " Best loss : 54.04553319764071  with chromsome :  [1.7094741609491815, 0.044023176239113004, 0.31874717736554037, -0.19887816224853583]\n",
      " Best loss : 48.17219201722988  with chromsome :  [1.7094741609491815, 0.044023176239113004, 0.34939844877138526, -0.19887816224853583]\n",
      " Best loss : 43.94635142063076  with chromsome :  [-1.0987390901139105, 0.10014747695373138, -0.07970189136192518, 0.19887816224853583]\n",
      " Best loss : 29.134333485371567  with chromsome :  [4.759314748534647, 0.044023176239113004, 0.31874717736554037, -0.19887816224853583]\n",
      " Best loss : 29.134333485371567  with chromsome :  [4.759314748534647, 0.044023176239113004, 0.31874717736554037, -0.19887816224853583]\n",
      " Best loss : 27.951105294710633  with chromsome :  [-1.7094741609491815, 0.044023176239113004, 0.20175636895821358, 0.19887816224853583]\n",
      " Best loss : 19.968514007471246  with chromsome :  [1.7204527062167774, 0.044023176239113004, 0.07970189136192518, 0.19165899264987019]\n",
      " Best loss : 19.968514007471246  with chromsome :  [1.7204527062167774, 0.044023176239113004, 0.07970189136192518, 0.19165899264987019]\n",
      " Best loss : 19.968514007471246  with chromsome :  [1.7204527062167774, 0.044023176239113004, 0.07970189136192518, 0.19165899264987019]\n",
      " Best loss : 10.351316843151302  with chromsome :  [1.7094741609491815, 0.044023176239113004, 0.20175636895821358, 0.08394146690970272]\n",
      " Best loss : 10.351316843151302  with chromsome :  [1.7094741609491815, 0.044023176239113004, 0.20175636895821358, 0.08394146690970272]\n",
      " Best loss : 10.351316843151302  with chromsome :  [1.7094741609491815, 0.044023176239113004, 0.20175636895821358, 0.08394146690970272]\n",
      " Best loss : 10.351316843151302  with chromsome :  [1.7094741609491815, 0.044023176239113004, 0.20175636895821358, 0.08394146690970272]\n",
      " Best loss : 10.351316843151302  with chromsome :  [1.7094741609491815, 0.044023176239113004, 0.20175636895821358, 0.08394146690970272]\n",
      " Best loss : 10.351316843151302  with chromsome :  [1.7094741609491815, 0.044023176239113004, 0.20175636895821358, 0.08394146690970272]\n",
      " Best loss : 10.344852499381291  with chromsome :  [1.0987390901139105, 0.044023176239113004, 0.20175636895821358, 0.08394146690970272]\n",
      " Best loss : 10.344852499381291  with chromsome :  [1.0987390901139105, 0.044023176239113004, 0.20175636895821358, 0.08394146690970272]\n",
      " Best loss : 10.181586312578764  with chromsome :  [4.759314748534647, 0.044023176239113004, 0.20175636895821358, -0.08394146690970272]\n",
      " Best loss : 10.181586312578764  with chromsome :  [4.759314748534647, 0.044023176239113004, 0.20175636895821358, -0.08394146690970272]\n",
      " Best loss : 6.572286992025729  with chromsome :  [4.759314748534647, 0.044023176239113004, 0.07970189136192518, 0.08394146690970272]\n",
      " Best loss : 6.572286992025729  with chromsome :  [4.759314748534647, 0.044023176239113004, 0.07970189136192518, 0.08394146690970272]\n",
      " Best loss : 6.572286992025729  with chromsome :  [4.759314748534647, 0.044023176239113004, 0.07970189136192518, 0.08394146690970272]\n",
      " Best loss : 6.572286992025729  with chromsome :  [4.759314748534647, 0.044023176239113004, 0.07970189136192518, 0.08394146690970272]\n",
      " Best loss : 6.572286992025729  with chromsome :  [4.759314748534647, 0.044023176239113004, 0.07970189136192518, 0.08394146690970272]\n",
      " Best loss : 6.572286992025729  with chromsome :  [4.759314748534647, 0.044023176239113004, 0.07970189136192518, 0.08394146690970272]\n",
      " Best loss : 6.572286992025729  with chromsome :  [4.759314748534647, 0.044023176239113004, 0.07970189136192518, 0.08394146690970272]\n",
      " Best loss : 6.572286992025729  with chromsome :  [4.759314748534647, 0.044023176239113004, 0.07970189136192518, 0.08394146690970272]\n",
      " Best loss : 6.572286992025729  with chromsome :  [4.759314748534647, 0.044023176239113004, 0.07970189136192518, 0.08394146690970272]\n",
      " Best loss : 6.572286992025729  with chromsome :  [4.759314748534647, 0.044023176239113004, 0.07970189136192518, 0.08394146690970272]\n",
      " Best loss : 6.572286992025729  with chromsome :  [4.759314748534647, 0.044023176239113004, 0.07970189136192518, 0.08394146690970272]\n",
      " Best loss : 6.572286992025729  with chromsome :  [4.759314748534647, 0.044023176239113004, 0.07970189136192518, 0.08394146690970272]\n",
      " Best loss : 6.572286992025729  with chromsome :  [4.759314748534647, 0.044023176239113004, 0.07970189136192518, 0.08394146690970272]\n",
      " Best loss : 6.572286992025729  with chromsome :  [4.759314748534647, 0.044023176239113004, 0.07970189136192518, 0.08394146690970272]\n",
      " Best loss : 6.572286992025729  with chromsome :  [4.759314748534647, 0.044023176239113004, 0.07970189136192518, 0.08394146690970272]\n",
      " Best loss : 6.572286992025729  with chromsome :  [4.759314748534647, 0.044023176239113004, 0.07970189136192518, 0.08394146690970272]\n",
      " Best loss : 6.572286992025729  with chromsome :  [4.759314748534647, 0.044023176239113004, 0.07970189136192518, 0.08394146690970272]\n",
      " Best loss : 6.572286992025729  with chromsome :  [4.759314748534647, 0.044023176239113004, 0.07970189136192518, 0.08394146690970272]\n",
      " Best loss : 6.572286992025729  with chromsome :  [4.759314748534647, 0.044023176239113004, 0.07970189136192518, 0.08394146690970272]\n",
      " Best loss : 6.572286992025729  with chromsome :  [4.759314748534647, 0.044023176239113004, 0.07970189136192518, 0.08394146690970272]\n",
      " Best loss : 6.572286992025729  with chromsome :  [4.759314748534647, 0.044023176239113004, 0.07970189136192518, 0.08394146690970272]\n",
      " Best loss : 6.572286992025729  with chromsome :  [4.759314748534647, 0.044023176239113004, 0.07970189136192518, 0.08394146690970272]\n",
      " Best loss : 6.572286992025729  with chromsome :  [4.759314748534647, 0.044023176239113004, 0.07970189136192518, 0.08394146690970272]\n",
      " Best loss : 6.572286992025729  with chromsome :  [4.759314748534647, 0.044023176239113004, 0.07970189136192518, 0.08394146690970272]\n",
      " Best loss : 6.572286992025729  with chromsome :  [4.759314748534647, 0.044023176239113004, 0.07970189136192518, 0.08394146690970272]\n",
      " Best loss : 6.572286992025729  with chromsome :  [4.759314748534647, 0.044023176239113004, 0.07970189136192518, 0.08394146690970272]\n",
      " Best loss : 6.572286992025729  with chromsome :  [4.759314748534647, 0.044023176239113004, 0.07970189136192518, 0.08394146690970272]\n",
      " Best loss : 6.572286992025729  with chromsome :  [4.759314748534647, 0.044023176239113004, 0.07970189136192518, 0.08394146690970272]\n",
      " Best loss : 6.572286992025729  with chromsome :  [4.759314748534647, 0.044023176239113004, 0.07970189136192518, 0.08394146690970272]\n",
      " Best loss : 6.572286992025729  with chromsome :  [4.759314748534647, 0.044023176239113004, 0.07970189136192518, 0.08394146690970272]\n",
      " Best loss : 6.572286992025729  with chromsome :  [4.759314748534647, 0.044023176239113004, 0.07970189136192518, 0.08394146690970272]\n",
      " Best loss : 6.572286992025729  with chromsome :  [4.759314748534647, 0.044023176239113004, 0.07970189136192518, 0.08394146690970272]\n",
      " Best loss : 6.572286992025729  with chromsome :  [4.759314748534647, 0.044023176239113004, 0.07970189136192518, 0.08394146690970272]\n",
      " Best loss : 6.572286992025729  with chromsome :  [4.759314748534647, 0.044023176239113004, 0.07970189136192518, 0.08394146690970272]\n",
      " Best loss : 6.572286992025729  with chromsome :  [4.759314748534647, 0.044023176239113004, 0.07970189136192518, 0.08394146690970272]\n",
      " Best loss : 6.572286992025729  with chromsome :  [4.759314748534647, 0.044023176239113004, 0.07970189136192518, 0.08394146690970272]\n",
      " Best loss : 6.572286992025729  with chromsome :  [4.759314748534647, 0.044023176239113004, 0.07970189136192518, 0.08394146690970272]\n",
      " Best loss : 6.572286992025729  with chromsome :  [4.759314748534647, 0.044023176239113004, 0.07970189136192518, 0.08394146690970272]\n",
      " Best loss : 6.572286992025729  with chromsome :  [4.759314748534647, 0.044023176239113004, 0.07970189136192518, 0.08394146690970272]\n",
      " Best loss : 6.572286992025729  with chromsome :  [4.759314748534647, 0.044023176239113004, 0.07970189136192518, 0.08394146690970272]\n",
      " Best loss : 6.572286992025729  with chromsome :  [4.759314748534647, 0.044023176239113004, 0.07970189136192518, 0.08394146690970272]\n",
      " Best loss : 6.572286992025729  with chromsome :  [4.759314748534647, 0.044023176239113004, 0.07970189136192518, 0.08394146690970272]\n",
      " Best loss : 6.572286992025729  with chromsome :  [4.759314748534647, 0.044023176239113004, 0.07970189136192518, 0.08394146690970272]\n",
      " Best loss : 6.572286992025729  with chromsome :  [4.759314748534647, 0.044023176239113004, 0.07970189136192518, 0.08394146690970272]\n",
      " Best loss : 6.572286992025729  with chromsome :  [4.759314748534647, 0.044023176239113004, 0.07970189136192518, 0.08394146690970272]\n",
      " Best loss : 6.572286992025729  with chromsome :  [4.759314748534647, 0.044023176239113004, 0.07970189136192518, 0.08394146690970272]\n",
      " Best loss : 6.572286992025729  with chromsome :  [4.759314748534647, 0.044023176239113004, 0.07970189136192518, 0.08394146690970272]\n",
      " Best loss : 6.572286992025729  with chromsome :  [4.759314748534647, 0.044023176239113004, 0.07970189136192518, 0.08394146690970272]\n",
      " Best loss : 6.572286992025729  with chromsome :  [4.759314748534647, 0.044023176239113004, 0.07970189136192518, 0.08394146690970272]\n",
      " Best loss : 6.572286992025729  with chromsome :  [4.759314748534647, 0.044023176239113004, 0.07970189136192518, 0.08394146690970272]\n",
      " Best loss : 6.572286992025729  with chromsome :  [4.759314748534647, 0.044023176239113004, 0.07970189136192518, 0.08394146690970272]\n",
      " Best loss : 6.572286992025729  with chromsome :  [4.759314748534647, 0.044023176239113004, 0.07970189136192518, 0.08394146690970272]\n",
      " Best loss : 6.572286992025729  with chromsome :  [4.759314748534647, 0.044023176239113004, 0.07970189136192518, 0.08394146690970272]\n",
      " Best loss : 6.572286992025729  with chromsome :  [4.759314748534647, 0.044023176239113004, 0.07970189136192518, 0.08394146690970272]\n",
      " Best loss : 6.572286992025729  with chromsome :  [4.759314748534647, 0.044023176239113004, 0.07970189136192518, 0.08394146690970272]\n",
      " Best loss : 6.572286992025729  with chromsome :  [4.759314748534647, 0.044023176239113004, 0.07970189136192518, 0.08394146690970272]\n",
      " Best loss : 6.572286992025729  with chromsome :  [4.759314748534647, 0.044023176239113004, 0.07970189136192518, 0.08394146690970272]\n",
      " Best loss : 6.572286992025729  with chromsome :  [4.759314748534647, 0.044023176239113004, 0.07970189136192518, 0.08394146690970272]\n",
      " Best loss : 6.572286992025729  with chromsome :  [4.759314748534647, 0.044023176239113004, 0.07970189136192518, 0.08394146690970272]\n",
      " Best loss : 6.572286992025729  with chromsome :  [4.759314748534647, 0.044023176239113004, 0.07970189136192518, 0.08394146690970272]\n",
      " Best loss : 6.572286992025729  with chromsome :  [4.759314748534647, 0.044023176239113004, 0.07970189136192518, 0.08394146690970272]\n",
      " Best loss : 6.572286992025729  with chromsome :  [4.759314748534647, 0.044023176239113004, 0.07970189136192518, 0.08394146690970272]\n",
      " Best loss : 6.572286992025729  with chromsome :  [4.759314748534647, 0.044023176239113004, 0.07970189136192518, 0.08394146690970272]\n",
      " Best loss : 6.572286992025729  with chromsome :  [4.759314748534647, 0.044023176239113004, 0.07970189136192518, 0.08394146690970272]\n",
      " Best loss : 6.572286992025729  with chromsome :  [4.759314748534647, 0.044023176239113004, 0.07970189136192518, 0.08394146690970272]\n",
      " Best loss : 6.572286992025729  with chromsome :  [4.759314748534647, 0.044023176239113004, 0.07970189136192518, 0.08394146690970272]\n",
      " Best loss : 6.572286992025729  with chromsome :  [4.759314748534647, 0.044023176239113004, 0.07970189136192518, 0.08394146690970272]\n",
      " Best loss : 6.572286992025729  with chromsome :  [4.759314748534647, 0.044023176239113004, 0.07970189136192518, 0.08394146690970272]\n",
      " Best loss : 6.572286992025729  with chromsome :  [4.759314748534647, 0.044023176239113004, 0.07970189136192518, 0.08394146690970272]\n",
      " Best loss : 6.572286992025729  with chromsome :  [4.759314748534647, 0.044023176239113004, 0.07970189136192518, 0.08394146690970272]\n",
      " Best loss : 6.572286992025729  with chromsome :  [4.759314748534647, 0.044023176239113004, 0.07970189136192518, 0.08394146690970272]\n",
      " Best loss : 6.572286992025729  with chromsome :  [4.759314748534647, 0.044023176239113004, 0.07970189136192518, 0.08394146690970272]\n",
      " Best loss : 6.572286992025729  with chromsome :  [4.759314748534647, 0.044023176239113004, 0.07970189136192518, 0.08394146690970272]\n",
      " Best loss : 6.572286992025729  with chromsome :  [4.759314748534647, 0.044023176239113004, 0.07970189136192518, 0.08394146690970272]\n",
      " Best loss : 6.572286992025729  with chromsome :  [4.759314748534647, 0.044023176239113004, 0.07970189136192518, 0.08394146690970272]\n",
      " Best loss : 6.572286992025729  with chromsome :  [4.759314748534647, 0.044023176239113004, 0.07970189136192518, 0.08394146690970272]\n",
      " Best loss : 6.572286992025729  with chromsome :  [4.759314748534647, 0.044023176239113004, 0.07970189136192518, 0.08394146690970272]\n"
     ]
    },
    {
     "data": {
      "image/png": "[encoded data removed]",
      "text/plain": [
       "<Figure size 640x480 with 1 Axes>"
      ]
     },
     "metadata": {},
     "output_type": "display_data"
    }
   ],
   "source": [
    "losses_list = run_ga()\n",
    "visualize_loss(losses_list)"
   ]
  }
 ],
 "metadata": {
  "kernelspec": {
   "display_name": "base",
   "language": "python",
   "name": "python3"
  },
  "language_info": {
   "codemirror_mode": {
    "name": "ipython",
    "version": 3
   },
   "file_extension": ".py",
   "mimetype": "text/x-python",
   "name": "python",
   "nbconvert_exporter": "python",
   "pygments_lexer": "ipython3",
   "version": "3.11.5"
  }
 },
 "nbformat": 4,
 "nbformat_minor": 2
}
